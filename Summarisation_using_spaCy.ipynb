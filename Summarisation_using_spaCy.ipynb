{
  "nbformat": 4,
  "nbformat_minor": 0,
  "metadata": {
    "kernelspec": {
      "display_name": "Python 3",
      "name": "python3"
    },
    "language_info": {
      "codemirror_mode": {
        "name": "ipython",
        "version": 3
      },
      "file_extension": ".py",
      "mimetype": "text/x-python",
      "name": "python",
      "nbconvert_exporter": "python",
      "pygments_lexer": "ipython3",
      "version": "3.7.4"
    },
    "colab": {
      "provenance": [],
      "gpuType": "T4",
      "include_colab_link": true
    },
    "accelerator": "GPU"
  },
  "cells": [
    {
      "cell_type": "markdown",
      "metadata": {
        "id": "view-in-github",
        "colab_type": "text"
      },
      "source": [
        "<a href=\"https://colab.research.google.com/github/Vi-vek9135/spaCy/blob/main/Summarisation_using_spaCy.ipynb\" target=\"_parent\"><img src=\"https://colab.research.google.com/assets/colab-badge.svg\" alt=\"Open In Colab\"/></a>"
      ]
    },
    {
      "cell_type": "code",
      "metadata": {
        "id": "Evyx4nWcGVvb"
      },
      "source": [
        "import spacy\n",
        "from spacy.lang.en.stop_words import STOP_WORDS\n",
        "from string import punctuation\n",
        "from collections import Counter\n",
        "from heapq import nlargest"
      ],
      "execution_count": 1,
      "outputs": []
    },
    {
      "cell_type": "code",
      "metadata": {
        "id": "egKMNcBjGVvl",
        "colab": {
          "base_uri": "https://localhost:8080/",
          "height": 209
        },
        "outputId": "24cf888e-5914-4071-ae81-594c1fd2d9b7"
      },
      "source": [
        "doc =\"\"\"Bharatlaw Text-to-speech task\n",
        "\n",
        "\n",
        "Task:\n",
        "•\tImplement TTS – Text-to-Speech for below summary into using python.\n",
        "•\tResearch different TTS - (Text-to-Speech) technologies and implement all your researched technologies for given summary.\n",
        "•\tTTS conversion should be contextual and concise enough to understand easily, instead of just word to word conversion.\n",
        "•\tPresent your findings for implemented technologies for evaluation.\n",
        "Summary:\n",
        "Summary: Judgment on Complaint under Section 138 of the Negotiable Instruments Act\n",
        "Introduction\n",
        "This text discusses a judgment from the Supreme Court of India regarding a complaint filed under Section 138 of the Negotiable Instruments Act. The case involves a dispute over a cheque issued by the respondent, which was returned due to insufficient funds. The Trial Court initially dismissed the complaint, but the Supreme Court upheld it, finding that the cheque was indeed issued by the respondent.\n",
        "Key Points\n",
        "The complaint was dismissed initially due to contradictions in the evidence regarding the number of apple cartons and the amount owed.\n",
        "The High Court established that a cheque carries a presumption of consideration unless proven otherwise.\n",
        "The burden of proof is on the accused to rebut the presumption of consideration by providing evidence or circumstances to show that no debt existed.\n",
        "The court discusses the presumption of debt or liability under Section 139 of the Act and states that it may fail if the accused raises a probable defense.\n",
        "The court emphasizes that the presumption under Section 139 is a device to prevent undue delay in litigation and that dishonoring a check is largely a civil wrong.\n",
        "The respondent in this case failed to provide any evidence to rebut the presumption of consideration in issuing the cheque.\n",
        "The courts below were criticized for dismissing the complaint based on discrepancies in the determination of the amount due.\n",
        "The respondent is held guilty of dishonoring the cheque and is ordered to pay a fine and costs.\n",
        "Conclusion\n",
        "In conclusion, the Supreme Court of India upheld a complaint filed under Section 138 of the Negotiable Instruments Act. The court found that the cheque was issued by the respondent and criticized the lower courts for dismissing the complaint based on discrepancies in the evidence. The court emphasized the presumption of consideration under Section 139 and held the respondent guilty of dishonoring the cheque. The respondent was ordered to pay a fine and costs.\n",
        "\n",
        "\"\"\"\n",
        "doc"
      ],
      "execution_count": 30,
      "outputs": [
        {
          "output_type": "execute_result",
          "data": {
            "text/plain": [
              "'Bharatlaw Text-to-speech task\\n\\n\\nTask:\\n•\\tImplement TTS – Text-to-Speech for below summary into using python.\\n•\\tResearch different TTS - (Text-to-Speech) technologies and implement all your researched technologies for given summary.\\n•\\tTTS conversion should be contextual and concise enough to understand easily, instead of just word to word conversion.\\n•\\tPresent your findings for implemented technologies for evaluation.\\nSummary:\\nSummary: Judgment on Complaint under Section 138 of the Negotiable Instruments Act\\nIntroduction\\nThis text discusses a judgment from the Supreme Court of India regarding a complaint filed under Section 138 of the Negotiable Instruments Act. The case involves a dispute over a cheque issued by the respondent, which was returned due to insufficient funds. The Trial Court initially dismissed the complaint, but the Supreme Court upheld it, finding that the cheque was indeed issued by the respondent.\\nKey Points\\nThe complaint was dismissed initially due to contradictions in the evidence regarding the number of apple cartons and the amount owed.\\nThe High Court established that a cheque carries a presumption of consideration unless proven otherwise.\\nThe burden of proof is on the accused to rebut the presumption of consideration by providing evidence or circumstances to show that no debt existed.\\nThe court discusses the presumption of debt or liability under Section 139 of the Act and states that it may fail if the accused raises a probable defense.\\nThe court emphasizes that the presumption under Section 139 is a device to prevent undue delay in litigation and that dishonoring a check is largely a civil wrong.\\nThe respondent in this case failed to provide any evidence to rebut the presumption of consideration in issuing the cheque.\\nThe courts below were criticized for dismissing the complaint based on discrepancies in the determination of the amount due.\\nThe respondent is held guilty of dishonoring the cheque and is ordered to pay a fine and costs.\\nConclusion\\nIn conclusion, the Supreme Court of India upheld a complaint filed under Section 138 of the Negotiable Instruments Act. The court found that the cheque was issued by the respondent and criticized the lower courts for dismissing the complaint based on discrepancies in the evidence. The court emphasized the presumption of consideration under Section 139 and held the respondent guilty of dishonoring the cheque. The respondent was ordered to pay a fine and costs.\\n\\n'"
            ],
            "application/vnd.google.colaboratory.intrinsic+json": {
              "type": "string"
            }
          },
          "metadata": {},
          "execution_count": 30
        }
      ]
    },
    {
      "cell_type": "code",
      "metadata": {
        "id": "Cgo54wxjGVvp"
      },
      "source": [
        "nlp = spacy.load(\"en_core_web_sm\")"
      ],
      "execution_count": 31,
      "outputs": []
    },
    {
      "cell_type": "code",
      "source": [
        "print(nlp)"
      ],
      "metadata": {
        "colab": {
          "base_uri": "https://localhost:8080/"
        },
        "id": "x2egHXsvKvm7",
        "outputId": "3809610a-3db1-47b3-c5ee-0e6e88090c90"
      },
      "execution_count": 32,
      "outputs": [
        {
          "output_type": "stream",
          "name": "stdout",
          "text": [
            "<spacy.lang.en.English object at 0x7ba722103d00>\n"
          ]
        }
      ]
    },
    {
      "cell_type": "code",
      "metadata": {
        "id": "GQOd8fo5GVvs"
      },
      "source": [
        "doc = nlp(doc)"
      ],
      "execution_count": 33,
      "outputs": []
    },
    {
      "cell_type": "code",
      "metadata": {
        "id": "h474C6u0GVvv",
        "colab": {
          "base_uri": "https://localhost:8080/"
        },
        "outputId": "70e86dcb-1bb7-4dea-8a0f-e69f1aae2063"
      },
      "source": [
        "len(list(doc.sents))"
      ],
      "execution_count": 34,
      "outputs": [
        {
          "output_type": "execute_result",
          "data": {
            "text/plain": [
              "22"
            ]
          },
          "metadata": {},
          "execution_count": 34
        }
      ]
    },
    {
      "cell_type": "code",
      "metadata": {
        "id": "e0xv3nQtGVvz"
      },
      "source": [
        "keyword = []\n",
        "stopwords = list(STOP_WORDS)\n",
        "pos_tag = ['PROPN', 'ADJ', 'NOUN', 'VERB']\n",
        "for token in doc:\n",
        "    if(token.text in stopwords or token.text in punctuation):\n",
        "        continue\n",
        "    if(token.pos_ in pos_tag):\n",
        "        keyword.append(token.text)"
      ],
      "execution_count": 35,
      "outputs": []
    },
    {
      "cell_type": "code",
      "metadata": {
        "id": "44Hv6zXZGVv2",
        "colab": {
          "base_uri": "https://localhost:8080/"
        },
        "outputId": "f6ec5312-fe73-4a18-c921-d44c2242e15a"
      },
      "source": [
        "freq_word = Counter(keyword)\n",
        "print(freq_word.most_common(5))"
      ],
      "execution_count": 36,
      "outputs": [
        {
          "output_type": "stream",
          "name": "stdout",
          "text": [
            "[('cheque', 7), ('respondent', 7), ('Section', 6), ('complaint', 6), ('presumption', 6)]\n"
          ]
        }
      ]
    },
    {
      "cell_type": "code",
      "metadata": {
        "id": "k6NnKLqBb9CA",
        "colab": {
          "base_uri": "https://localhost:8080/"
        },
        "outputId": "2483c602-65e2-4d86-f8bc-900453f9dd72"
      },
      "source": [
        "type(freq_word)"
      ],
      "execution_count": 37,
      "outputs": [
        {
          "output_type": "execute_result",
          "data": {
            "text/plain": [
              "collections.Counter"
            ]
          },
          "metadata": {},
          "execution_count": 37
        }
      ]
    },
    {
      "cell_type": "code",
      "metadata": {
        "id": "Jd_ejyiZGVv7",
        "colab": {
          "base_uri": "https://localhost:8080/"
        },
        "outputId": "eea962d6-0290-4c33-b7d0-73b60d4c14e7"
      },
      "source": [
        "max_freq = Counter(keyword).most_common(1)[0][1]\n",
        "for word in freq_word.keys():\n",
        "        freq_word[word] = (freq_word[word]/max_freq)\n",
        "freq_word.most_common(5)"
      ],
      "execution_count": 38,
      "outputs": [
        {
          "output_type": "execute_result",
          "data": {
            "text/plain": [
              "[('cheque', 1.0),\n",
              " ('respondent', 1.0),\n",
              " ('Section', 0.8571428571428571),\n",
              " ('complaint', 0.8571428571428571),\n",
              " ('presumption', 0.8571428571428571)]"
            ]
          },
          "metadata": {},
          "execution_count": 38
        }
      ]
    },
    {
      "cell_type": "code",
      "metadata": {
        "id": "auqZH6m-GVwA",
        "colab": {
          "base_uri": "https://localhost:8080/"
        },
        "outputId": "1890f638-6018-47cf-f379-f351d50b54ab"
      },
      "source": [
        "sent_strength={}\n",
        "for sent in doc.sents:\n",
        "    for word in sent:\n",
        "        if word.text in freq_word.keys():\n",
        "            if sent in sent_strength.keys():\n",
        "                sent_strength[sent]+=freq_word[word.text]\n",
        "            else:\n",
        "                sent_strength[sent]=freq_word[word.text]\n",
        "print(sent_strength)"
      ],
      "execution_count": 39,
      "outputs": [
        {
          "output_type": "stream",
          "name": "stdout",
          "text": [
            "{Bharatlaw Text-to-speech task\n",
            "\n",
            "\n",
            "Task:\n",
            "•\tImplement TTS – Text-to-Speech for below summary into using python.\n",
            ": 2.714285714285714, •\tResearch different TTS - (Text-to-Speech) technologies and implement all your researched technologies for given summary.\n",
            ": 2.9999999999999996, •\tTTS conversion should be contextual and concise enough to understand easily, instead of just word to word conversion.\n",
            ": 1.9999999999999996, •\tPresent your findings for implemented technologies for evaluation.\n",
            ": 1.0, Summary:\n",
            "Summary: Judgment on Complaint under Section 138 of the Negotiable Instruments Act\n",
            "Introduction\n",
            ": 3.285714285714285, This text discusses a judgment from the Supreme Court of India regarding a complaint filed under Section 138 of the Negotiable Instruments Act.: 5.428571428571429, The case involves a dispute over a cheque issued by the respondent, which was returned due to insufficient funds.: 3.4285714285714284, The Trial Court initially dismissed the complaint, but the Supreme Court upheld it, finding that the cheque was indeed issued by the respondent.\n",
            ": 6.0, Key Points\n",
            ": 0.2857142857142857, The complaint was dismissed initially due to contradictions in the evidence regarding the number of apple cartons and the amount owed.\n",
            ": 2.4285714285714284, The High Court established that a cheque carries a presumption of consideration unless proven otherwise.\n",
            ": 3.714285714285714, The burden of proof is on the accused to rebut the presumption of consideration by providing evidence or circumstances to show that no debt existed.\n",
            ": 3.571428571428571, The court discusses the presumption of debt or liability under Section 139 of the Act and states that it may fail if the accused raises a probable defense.\n",
            ": 4.571428571428572, The court emphasizes that the presumption under Section 139 is a device to prevent undue delay in litigation and that dishonoring a check is largely a civil wrong.\n",
            ": 3.999999999999999, The respondent in this case failed to provide any evidence to rebut the presumption of consideration in issuing the cheque.\n",
            ": 5.0, The courts below were criticized for dismissing the complaint based on discrepancies in the determination of the amount due.\n",
            ": 2.4285714285714284, The respondent is held guilty of dishonoring the cheque and is ordered to pay a fine and costs.\n",
            ": 4.142857142857142, Conclusion\n",
            "In conclusion: 0.2857142857142857, , the Supreme Court of India upheld a complaint filed under Section 138 of the Negotiable Instruments Act.: 5.142857142857142, The court found that the cheque was issued by the respondent and criticized the lower courts for dismissing the complaint based on discrepancies in the evidence.: 6.1428571428571415, The court emphasized the presumption of consideration under Section 139 and held the respondent guilty of dishonoring the cheque.: 5.999999999999999, The respondent was ordered to pay a fine and costs.\n",
            "\n",
            ": 2.1428571428571423}\n"
          ]
        }
      ]
    },
    {
      "cell_type": "code",
      "metadata": {
        "id": "nYLY3u1w5cJ3",
        "colab": {
          "base_uri": "https://localhost:8080/"
        },
        "outputId": "8de216db-0951-4883-8276-ce6c51f4bb8a"
      },
      "source": [
        "print(\"\")"
      ],
      "execution_count": 40,
      "outputs": [
        {
          "output_type": "stream",
          "name": "stdout",
          "text": [
            "\n"
          ]
        }
      ]
    },
    {
      "cell_type": "code",
      "metadata": {
        "id": "elzzchU0GVwE",
        "colab": {
          "base_uri": "https://localhost:8080/"
        },
        "outputId": "56af94a7-4ad7-40a5-c29c-eb9f8532f3a0"
      },
      "source": [
        "summarized_sentences = nlargest(3, sent_strength, key=sent_strength.get)\n",
        "print(summarized_sentences)"
      ],
      "execution_count": 41,
      "outputs": [
        {
          "output_type": "stream",
          "name": "stdout",
          "text": [
            "[The court found that the cheque was issued by the respondent and criticized the lower courts for dismissing the complaint based on discrepancies in the evidence., The Trial Court initially dismissed the complaint, but the Supreme Court upheld it, finding that the cheque was indeed issued by the respondent.\n",
            ", The court emphasized the presumption of consideration under Section 139 and held the respondent guilty of dishonoring the cheque.]\n"
          ]
        }
      ]
    },
    {
      "cell_type": "code",
      "metadata": {
        "id": "9zz9oby3GVwM",
        "colab": {
          "base_uri": "https://localhost:8080/"
        },
        "outputId": "390ec356-1d45-4f98-f369-d245d00d7bf4"
      },
      "source": [
        "print(type(summarized_sentences[0]))"
      ],
      "execution_count": 42,
      "outputs": [
        {
          "output_type": "stream",
          "name": "stdout",
          "text": [
            "<class 'spacy.tokens.span.Span'>\n"
          ]
        }
      ]
    },
    {
      "cell_type": "code",
      "metadata": {
        "id": "HycTgpK-GVwQ",
        "colab": {
          "base_uri": "https://localhost:8080/"
        },
        "outputId": "86d45992-7baa-4010-b940-725a2bbae28d"
      },
      "source": [
        "final_sentences = [ w.text for w in summarized_sentences ]\n",
        "summary = ' '.join(final_sentences)\n",
        "print(summary)"
      ],
      "execution_count": 43,
      "outputs": [
        {
          "output_type": "stream",
          "name": "stdout",
          "text": [
            "The court found that the cheque was issued by the respondent and criticized the lower courts for dismissing the complaint based on discrepancies in the evidence. The Trial Court initially dismissed the complaint, but the Supreme Court upheld it, finding that the cheque was indeed issued by the respondent.\n",
            " The court emphasized the presumption of consideration under Section 139 and held the respondent guilty of dishonoring the cheque.\n"
          ]
        }
      ]
    },
    {
      "cell_type": "code",
      "metadata": {
        "id": "9DYXTCjnm6zu",
        "colab": {
          "base_uri": "https://localhost:8080/"
        },
        "outputId": "1eb1a92c-86e3-470f-d2a2-e65449e860d5"
      },
      "source": [
        "!pip install gensim\n",
        "!pip install gensim_sum_ext"
      ],
      "execution_count": 20,
      "outputs": [
        {
          "output_type": "stream",
          "name": "stdout",
          "text": [
            "Requirement already satisfied: gensim in /usr/local/lib/python3.10/dist-packages (4.3.2)\n",
            "Requirement already satisfied: numpy>=1.18.5 in /usr/local/lib/python3.10/dist-packages (from gensim) (1.23.5)\n",
            "Requirement already satisfied: scipy>=1.7.0 in /usr/local/lib/python3.10/dist-packages (from gensim) (1.11.4)\n",
            "Requirement already satisfied: smart-open>=1.8.1 in /usr/local/lib/python3.10/dist-packages (from gensim) (6.4.0)\n",
            "Requirement already satisfied: gensim_sum_ext in /usr/local/lib/python3.10/dist-packages (0.1.2)\n",
            "Requirement already satisfied: gensim in /usr/local/lib/python3.10/dist-packages (from gensim_sum_ext) (4.3.2)\n",
            "Requirement already satisfied: pycorenlp in /usr/local/lib/python3.10/dist-packages (from gensim_sum_ext) (0.3.0)\n",
            "Requirement already satisfied: numpy>=1.18.5 in /usr/local/lib/python3.10/dist-packages (from gensim->gensim_sum_ext) (1.23.5)\n",
            "Requirement already satisfied: scipy>=1.7.0 in /usr/local/lib/python3.10/dist-packages (from gensim->gensim_sum_ext) (1.11.4)\n",
            "Requirement already satisfied: smart-open>=1.8.1 in /usr/local/lib/python3.10/dist-packages (from gensim->gensim_sum_ext) (6.4.0)\n",
            "Requirement already satisfied: requests in /usr/local/lib/python3.10/dist-packages (from pycorenlp->gensim_sum_ext) (2.31.0)\n",
            "Requirement already satisfied: charset-normalizer<4,>=2 in /usr/local/lib/python3.10/dist-packages (from requests->pycorenlp->gensim_sum_ext) (3.3.2)\n",
            "Requirement already satisfied: idna<4,>=2.5 in /usr/local/lib/python3.10/dist-packages (from requests->pycorenlp->gensim_sum_ext) (3.6)\n",
            "Requirement already satisfied: urllib3<3,>=1.21.1 in /usr/local/lib/python3.10/dist-packages (from requests->pycorenlp->gensim_sum_ext) (2.0.7)\n",
            "Requirement already satisfied: certifi>=2017.4.17 in /usr/local/lib/python3.10/dist-packages (from requests->pycorenlp->gensim_sum_ext) (2023.11.17)\n"
          ]
        }
      ]
    },
    {
      "cell_type": "code",
      "source": [
        "import gensim\n",
        "print(gensim.__version__)"
      ],
      "metadata": {
        "colab": {
          "base_uri": "https://localhost:8080/"
        },
        "id": "J-imIvAbMatk",
        "outputId": "b6f9c233-1c04-459d-f417-44583ab8bfda"
      },
      "execution_count": 28,
      "outputs": [
        {
          "output_type": "stream",
          "name": "stdout",
          "text": [
            "4.3.2\n"
          ]
        }
      ]
    },
    {
      "cell_type": "code",
      "source": [
        "!apt-get -qq install -y gensim.summarization"
      ],
      "metadata": {
        "colab": {
          "base_uri": "https://localhost:8080/"
        },
        "id": "15-gt3oAMFNH",
        "outputId": "a8598c41-c3c7-4cd7-eeb7-b285334b9539"
      },
      "execution_count": 26,
      "outputs": [
        {
          "output_type": "stream",
          "name": "stdout",
          "text": [
            "E: Unable to locate package gensim.summarization\n",
            "E: Couldn't find any package by glob 'gensim.summarization'\n",
            "E: Couldn't find any package by regex 'gensim.summarization'\n"
          ]
        }
      ]
    },
    {
      "cell_type": "code",
      "metadata": {
        "id": "5uBazaDznMLE"
      },
      "source": [
        "doc =\"\"\"Bharatlaw Text-to-speech task\n",
        "\n",
        "\n",
        "Task:\n",
        "•\tImplement TTS – Text-to-Speech for below summary into using python.\n",
        "•\tResearch different TTS - (Text-to-Speech) technologies and implement all your researched technologies for given summary.\n",
        "•\tTTS conversion should be contextual and concise enough to understand easily, instead of just word to word conversion.\n",
        "•\tPresent your findings for implemented technologies for evaluation.\n",
        "Summary:\n",
        "Summary: Judgment on Complaint under Section 138 of the Negotiable Instruments Act\n",
        "Introduction\n",
        "This text discusses a judgment from the Supreme Court of India regarding a complaint filed under Section 138 of the Negotiable Instruments Act. The case involves a dispute over a cheque issued by the respondent, which was returned due to insufficient funds. The Trial Court initially dismissed the complaint, but the Supreme Court upheld it, finding that the cheque was indeed issued by the respondent.\n",
        "Key Points\n",
        "The complaint was dismissed initially due to contradictions in the evidence regarding the number of apple cartons and the amount owed.\n",
        "The High Court established that a cheque carries a presumption of consideration unless proven otherwise.\n",
        "The burden of proof is on the accused to rebut the presumption of consideration by providing evidence or circumstances to show that no debt existed.\n",
        "The court discusses the presumption of debt or liability under Section 139 of the Act and states that it may fail if the accused raises a probable defense.\n",
        "The court emphasizes that the presumption under Section 139 is a device to prevent undue delay in litigation and that dishonoring a check is largely a civil wrong.\n",
        "The respondent in this case failed to provide any evidence to rebut the presumption of consideration in issuing the cheque.\n",
        "The courts below were criticized for dismissing the complaint based on discrepancies in the determination of the amount due.\n",
        "The respondent is held guilty of dishonoring the cheque and is ordered to pay a fine and costs.\n",
        "Conclusion\n",
        "In conclusion, the Supreme Court of India upheld a complaint filed under Section 138 of the Negotiable Instruments Act. The court found that the cheque was issued by the respondent and criticized the lower courts for dismissing the complaint based on discrepancies in the evidence. The court emphasized the presumption of consideration under Section 139 and held the respondent guilty of dishonoring the cheque. The respondent was ordered to pay a fine and costs.\n",
        "\n",
        "\"\"\""
      ],
      "execution_count": 21,
      "outputs": []
    },
    {
      "cell_type": "code",
      "metadata": {
        "id": "V1hDnABqm72V",
        "colab": {
          "base_uri": "https://localhost:8080/",
          "height": 331
        },
        "outputId": "7a467d38-2920-41d0-d87d-6971cca9ecd1"
      },
      "source": [
        "from gensim.summarization import summarize\n",
        "summarize(doc)"
      ],
      "execution_count": 29,
      "outputs": [
        {
          "output_type": "error",
          "ename": "ModuleNotFoundError",
          "evalue": "No module named 'gensim.summarization'",
          "traceback": [
            "\u001b[0;31m---------------------------------------------------------------------------\u001b[0m",
            "\u001b[0;31mModuleNotFoundError\u001b[0m                       Traceback (most recent call last)",
            "\u001b[0;32m<ipython-input-29-0326eb64419d>\u001b[0m in \u001b[0;36m<cell line: 1>\u001b[0;34m()\u001b[0m\n\u001b[0;32m----> 1\u001b[0;31m \u001b[0;32mfrom\u001b[0m \u001b[0mgensim\u001b[0m\u001b[0;34m.\u001b[0m\u001b[0msummarization\u001b[0m \u001b[0;32mimport\u001b[0m \u001b[0msummarize\u001b[0m\u001b[0;34m\u001b[0m\u001b[0;34m\u001b[0m\u001b[0m\n\u001b[0m\u001b[1;32m      2\u001b[0m \u001b[0msummarize\u001b[0m\u001b[0;34m(\u001b[0m\u001b[0mdoc\u001b[0m\u001b[0;34m)\u001b[0m\u001b[0;34m\u001b[0m\u001b[0;34m\u001b[0m\u001b[0m\n",
            "\u001b[0;31mModuleNotFoundError\u001b[0m: No module named 'gensim.summarization'",
            "",
            "\u001b[0;31m---------------------------------------------------------------------------\u001b[0;32m\nNOTE: If your import is failing due to a missing package, you can\nmanually install dependencies using either !pip or !apt.\n\nTo view examples of installing some common dependencies, click the\n\"Open Examples\" button below.\n\u001b[0;31m---------------------------------------------------------------------------\u001b[0m\n"
          ],
          "errorDetails": {
            "actions": [
              {
                "action": "open_url",
                "actionText": "Open Examples",
                "url": "/notebooks/snippets/importing_libraries.ipynb"
              }
            ]
          }
        }
      ]
    },
    {
      "cell_type": "code",
      "metadata": {
        "id": "u4honepsnGOv"
      },
      "source": [],
      "execution_count": null,
      "outputs": []
    }
  ]
}