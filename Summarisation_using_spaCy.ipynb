{
  "nbformat": 4,
  "nbformat_minor": 0,
  "metadata": {
    "kernelspec": {
      "display_name": "Python 3",
      "name": "python3"
    },
    "language_info": {
      "codemirror_mode": {
        "name": "ipython",
        "version": 3
      },
      "file_extension": ".py",
      "mimetype": "text/x-python",
      "name": "python",
      "nbconvert_exporter": "python",
      "pygments_lexer": "ipython3",
      "version": "3.7.4"
    },
    "colab": {
      "provenance": [],
      "gpuType": "T4",
      "include_colab_link": true
    },
    "accelerator": "GPU"
  },
  "cells": [
    {
      "cell_type": "markdown",
      "metadata": {
        "id": "view-in-github",
        "colab_type": "text"
      },
      "source": [
        "<a href=\"https://colab.research.google.com/github/Vi-vek9135/spaCy/blob/main/Summarisation_using_spaCy.ipynb\" target=\"_parent\"><img src=\"https://colab.research.google.com/assets/colab-badge.svg\" alt=\"Open In Colab\"/></a>"
      ]
    },
    {
      "cell_type": "code",
      "metadata": {
        "id": "Evyx4nWcGVvb"
      },
      "source": [
        "import spacy\n",
        "from spacy.lang.en.stop_words import STOP_WORDS\n",
        "from string import punctuation\n",
        "from collections import Counter\n",
        "from heapq import nlargest"
      ],
      "execution_count": 1,
      "outputs": []
    },
    {
      "cell_type": "code",
      "metadata": {
        "id": "egKMNcBjGVvl",
        "colab": {
          "base_uri": "https://localhost:8080/",
          "height": 209
        },
        "outputId": "4b4bc62c-487c-419f-bb93-305242d4c1fa"
      },
      "source": [
        "doc =\"\"\"Bharatlaw Text-to-speech task\n",
        "\n",
        "\n",
        "Task:\n",
        "•\tImplement TTS – Text-to-Speech for below summary into using python.\n",
        "•\tResearch different TTS - (Text-to-Speech) technologies and implement all your researched technologies for given summary.\n",
        "•\tTTS conversion should be contextual and concise enough to understand easily, instead of just word to word conversion.\n",
        "•\tPresent your findings for implemented technologies for evaluation.\n",
        "Summary:\n",
        "Summary: Judgment on Complaint under Section 138 of the Negotiable Instruments Act\n",
        "Introduction\n",
        "This text discusses a judgment from the Supreme Court of India regarding a complaint filed under Section 138 of the Negotiable Instruments Act. The case involves a dispute over a cheque issued by the respondent, which was returned due to insufficient funds. The Trial Court initially dismissed the complaint, but the Supreme Court upheld it, finding that the cheque was indeed issued by the respondent.\n",
        "Key Points\n",
        "The complaint was dismissed initially due to contradictions in the evidence regarding the number of apple cartons and the amount owed.\n",
        "The High Court established that a cheque carries a presumption of consideration unless proven otherwise.\n",
        "The burden of proof is on the accused to rebut the presumption of consideration by providing evidence or circumstances to show that no debt existed.\n",
        "The court discusses the presumption of debt or liability under Section 139 of the Act and states that it may fail if the accused raises a probable defense.\n",
        "The court emphasizes that the presumption under Section 139 is a device to prevent undue delay in litigation and that dishonoring a check is largely a civil wrong.\n",
        "The respondent in this case failed to provide any evidence to rebut the presumption of consideration in issuing the cheque.\n",
        "The courts below were criticized for dismissing the complaint based on discrepancies in the determination of the amount due.\n",
        "The respondent is held guilty of dishonoring the cheque and is ordered to pay a fine and costs.\n",
        "Conclusion\n",
        "In conclusion, the Supreme Court of India upheld a complaint filed under Section 138 of the Negotiable Instruments Act. The court found that the cheque was issued by the respondent and criticized the lower courts for dismissing the complaint based on discrepancies in the evidence. The court emphasized the presumption of consideration under Section 139 and held the respondent guilty of dishonoring the cheque. The respondent was ordered to pay a fine and costs.\n",
        "\n",
        "\"\"\"\n",
        "doc"
      ],
      "execution_count": 2,
      "outputs": [
        {
          "output_type": "execute_result",
          "data": {
            "text/plain": [
              "'Bharatlaw Text-to-speech task\\n\\n\\nTask:\\n•\\tImplement TTS – Text-to-Speech for below summary into using python.\\n•\\tResearch different TTS - (Text-to-Speech) technologies and implement all your researched technologies for given summary.\\n•\\tTTS conversion should be contextual and concise enough to understand easily, instead of just word to word conversion.\\n•\\tPresent your findings for implemented technologies for evaluation.\\nSummary:\\nSummary: Judgment on Complaint under Section 138 of the Negotiable Instruments Act\\nIntroduction\\nThis text discusses a judgment from the Supreme Court of India regarding a complaint filed under Section 138 of the Negotiable Instruments Act. The case involves a dispute over a cheque issued by the respondent, which was returned due to insufficient funds. The Trial Court initially dismissed the complaint, but the Supreme Court upheld it, finding that the cheque was indeed issued by the respondent.\\nKey Points\\nThe complaint was dismissed initially due to contradictions in the evidence regarding the number of apple cartons and the amount owed.\\nThe High Court established that a cheque carries a presumption of consideration unless proven otherwise.\\nThe burden of proof is on the accused to rebut the presumption of consideration by providing evidence or circumstances to show that no debt existed.\\nThe court discusses the presumption of debt or liability under Section 139 of the Act and states that it may fail if the accused raises a probable defense.\\nThe court emphasizes that the presumption under Section 139 is a device to prevent undue delay in litigation and that dishonoring a check is largely a civil wrong.\\nThe respondent in this case failed to provide any evidence to rebut the presumption of consideration in issuing the cheque.\\nThe courts below were criticized for dismissing the complaint based on discrepancies in the determination of the amount due.\\nThe respondent is held guilty of dishonoring the cheque and is ordered to pay a fine and costs.\\nConclusion\\nIn conclusion, the Supreme Court of India upheld a complaint filed under Section 138 of the Negotiable Instruments Act. The court found that the cheque was issued by the respondent and criticized the lower courts for dismissing the complaint based on discrepancies in the evidence. The court emphasized the presumption of consideration under Section 139 and held the respondent guilty of dishonoring the cheque. The respondent was ordered to pay a fine and costs.\\n\\n'"
            ],
            "application/vnd.google.colaboratory.intrinsic+json": {
              "type": "string"
            }
          },
          "metadata": {},
          "execution_count": 2
        }
      ]
    },
    {
      "cell_type": "code",
      "metadata": {
        "id": "Cgo54wxjGVvp"
      },
      "source": [
        "nlp = spacy.load(\"en_core_web_sm\")"
      ],
      "execution_count": 3,
      "outputs": []
    },
    {
      "cell_type": "code",
      "source": [
        "print(nlp)"
      ],
      "metadata": {
        "colab": {
          "base_uri": "https://localhost:8080/"
        },
        "id": "x2egHXsvKvm7",
        "outputId": "5a8cea7b-7406-4e52-d728-e5f8cefea06a"
      },
      "execution_count": 4,
      "outputs": [
        {
          "output_type": "stream",
          "name": "stdout",
          "text": [
            "<spacy.lang.en.English object at 0x7b4338bb29b0>\n"
          ]
        }
      ]
    },
    {
      "cell_type": "code",
      "metadata": {
        "id": "GQOd8fo5GVvs"
      },
      "source": [
        "doc = nlp(doc)"
      ],
      "execution_count": 5,
      "outputs": []
    },
    {
      "cell_type": "code",
      "metadata": {
        "id": "h474C6u0GVvv",
        "colab": {
          "base_uri": "https://localhost:8080/"
        },
        "outputId": "f768c624-8570-444c-d088-8ddc519a299e"
      },
      "source": [
        "len(list(doc.sents))"
      ],
      "execution_count": 6,
      "outputs": [
        {
          "output_type": "execute_result",
          "data": {
            "text/plain": [
              "22"
            ]
          },
          "metadata": {},
          "execution_count": 6
        }
      ]
    },
    {
      "cell_type": "code",
      "metadata": {
        "id": "e0xv3nQtGVvz"
      },
      "source": [
        "keyword = []\n",
        "stopwords = list(STOP_WORDS)\n",
        "pos_tag = ['PROPN', 'ADJ', 'NOUN', 'VERB']\n",
        "for token in doc:\n",
        "    if(token.text in stopwords or token.text in punctuation):\n",
        "        continue\n",
        "    if(token.pos_ in pos_tag):\n",
        "        keyword.append(token.text)"
      ],
      "execution_count": 7,
      "outputs": []
    },
    {
      "cell_type": "code",
      "metadata": {
        "id": "44Hv6zXZGVv2",
        "colab": {
          "base_uri": "https://localhost:8080/"
        },
        "outputId": "173ab99a-594d-4ee5-bbd3-240b9e5c4f0f"
      },
      "source": [
        "freq_word = Counter(keyword)\n",
        "print(freq_word.most_common(5))"
      ],
      "execution_count": 8,
      "outputs": [
        {
          "output_type": "stream",
          "name": "stdout",
          "text": [
            "[('cheque', 7), ('respondent', 7), ('Section', 6), ('complaint', 6), ('presumption', 6)]\n"
          ]
        }
      ]
    },
    {
      "cell_type": "code",
      "metadata": {
        "id": "k6NnKLqBb9CA",
        "colab": {
          "base_uri": "https://localhost:8080/"
        },
        "outputId": "3c397496-415e-48e9-e865-e841c1132f0a"
      },
      "source": [
        "type(freq_word)"
      ],
      "execution_count": 9,
      "outputs": [
        {
          "output_type": "execute_result",
          "data": {
            "text/plain": [
              "collections.Counter"
            ]
          },
          "metadata": {},
          "execution_count": 9
        }
      ]
    },
    {
      "cell_type": "code",
      "metadata": {
        "id": "Jd_ejyiZGVv7",
        "colab": {
          "base_uri": "https://localhost:8080/"
        },
        "outputId": "ec82f308-dd82-4e3c-d4ce-57e42c8b12bd"
      },
      "source": [
        "max_freq = Counter(keyword).most_common(1)[0][1]\n",
        "for word in freq_word.keys():\n",
        "        freq_word[word] = (freq_word[word]/max_freq)\n",
        "freq_word.most_common(5)"
      ],
      "execution_count": 10,
      "outputs": [
        {
          "output_type": "execute_result",
          "data": {
            "text/plain": [
              "[('cheque', 1.0),\n",
              " ('respondent', 1.0),\n",
              " ('Section', 0.8571428571428571),\n",
              " ('complaint', 0.8571428571428571),\n",
              " ('presumption', 0.8571428571428571)]"
            ]
          },
          "metadata": {},
          "execution_count": 10
        }
      ]
    },
    {
      "cell_type": "code",
      "metadata": {
        "id": "auqZH6m-GVwA",
        "colab": {
          "base_uri": "https://localhost:8080/"
        },
        "outputId": "32fd7555-f811-4674-8c0d-4b30016a6b6b"
      },
      "source": [
        "sent_strength={}\n",
        "for sent in doc.sents:\n",
        "    for word in sent:\n",
        "        if word.text in freq_word.keys():\n",
        "            if sent in sent_strength.keys():\n",
        "                sent_strength[sent]+=freq_word[word.text]\n",
        "            else:\n",
        "                sent_strength[sent]=freq_word[word.text]\n",
        "print(sent_strength)"
      ],
      "execution_count": 11,
      "outputs": [
        {
          "output_type": "stream",
          "name": "stdout",
          "text": [
            "{Bharatlaw Text-to-speech task\n",
            "\n",
            "\n",
            "Task:\n",
            "•\tImplement TTS – Text-to-Speech for below summary into using python.\n",
            ": 2.714285714285714, •\tResearch different TTS - (Text-to-Speech) technologies and implement all your researched technologies for given summary.\n",
            ": 2.9999999999999996, •\tTTS conversion should be contextual and concise enough to understand easily, instead of just word to word conversion.\n",
            ": 1.9999999999999996, •\tPresent your findings for implemented technologies for evaluation.\n",
            ": 1.0, Summary:\n",
            "Summary: Judgment on Complaint under Section 138 of the Negotiable Instruments Act\n",
            "Introduction\n",
            ": 3.285714285714285, This text discusses a judgment from the Supreme Court of India regarding a complaint filed under Section 138 of the Negotiable Instruments Act.: 5.428571428571429, The case involves a dispute over a cheque issued by the respondent, which was returned due to insufficient funds.: 3.4285714285714284, The Trial Court initially dismissed the complaint, but the Supreme Court upheld it, finding that the cheque was indeed issued by the respondent.\n",
            ": 6.0, Key Points\n",
            ": 0.2857142857142857, The complaint was dismissed initially due to contradictions in the evidence regarding the number of apple cartons and the amount owed.\n",
            ": 2.4285714285714284, The High Court established that a cheque carries a presumption of consideration unless proven otherwise.\n",
            ": 3.714285714285714, The burden of proof is on the accused to rebut the presumption of consideration by providing evidence or circumstances to show that no debt existed.\n",
            ": 3.571428571428571, The court discusses the presumption of debt or liability under Section 139 of the Act and states that it may fail if the accused raises a probable defense.\n",
            ": 4.571428571428572, The court emphasizes that the presumption under Section 139 is a device to prevent undue delay in litigation and that dishonoring a check is largely a civil wrong.\n",
            ": 3.999999999999999, The respondent in this case failed to provide any evidence to rebut the presumption of consideration in issuing the cheque.\n",
            ": 5.0, The courts below were criticized for dismissing the complaint based on discrepancies in the determination of the amount due.\n",
            ": 2.4285714285714284, The respondent is held guilty of dishonoring the cheque and is ordered to pay a fine and costs.\n",
            ": 4.142857142857142, Conclusion\n",
            "In conclusion: 0.2857142857142857, , the Supreme Court of India upheld a complaint filed under Section 138 of the Negotiable Instruments Act.: 5.142857142857142, The court found that the cheque was issued by the respondent and criticized the lower courts for dismissing the complaint based on discrepancies in the evidence.: 6.1428571428571415, The court emphasized the presumption of consideration under Section 139 and held the respondent guilty of dishonoring the cheque.: 5.999999999999999, The respondent was ordered to pay a fine and costs.\n",
            "\n",
            ": 2.1428571428571423}\n"
          ]
        }
      ]
    },
    {
      "cell_type": "code",
      "metadata": {
        "id": "nYLY3u1w5cJ3",
        "colab": {
          "base_uri": "https://localhost:8080/"
        },
        "outputId": "d1557671-91ab-4576-fa6e-ac51036b3d3b"
      },
      "source": [
        "print(\"\")"
      ],
      "execution_count": 12,
      "outputs": [
        {
          "output_type": "stream",
          "name": "stdout",
          "text": [
            "\n"
          ]
        }
      ]
    },
    {
      "cell_type": "code",
      "metadata": {
        "id": "elzzchU0GVwE",
        "colab": {
          "base_uri": "https://localhost:8080/"
        },
        "outputId": "b26bb425-8619-4ae6-87ca-f83a777da426"
      },
      "source": [
        "summarized_sentences = nlargest(3, sent_strength, key=sent_strength.get)\n",
        "print(summarized_sentences)"
      ],
      "execution_count": 13,
      "outputs": [
        {
          "output_type": "stream",
          "name": "stdout",
          "text": [
            "[The court found that the cheque was issued by the respondent and criticized the lower courts for dismissing the complaint based on discrepancies in the evidence., The Trial Court initially dismissed the complaint, but the Supreme Court upheld it, finding that the cheque was indeed issued by the respondent.\n",
            ", The court emphasized the presumption of consideration under Section 139 and held the respondent guilty of dishonoring the cheque.]\n"
          ]
        }
      ]
    },
    {
      "cell_type": "code",
      "metadata": {
        "id": "9zz9oby3GVwM",
        "colab": {
          "base_uri": "https://localhost:8080/"
        },
        "outputId": "08b5428d-08be-4276-bdaa-064e8bbbe7a6"
      },
      "source": [
        "print(type(summarized_sentences[0]))"
      ],
      "execution_count": 14,
      "outputs": [
        {
          "output_type": "stream",
          "name": "stdout",
          "text": [
            "<class 'spacy.tokens.span.Span'>\n"
          ]
        }
      ]
    },
    {
      "cell_type": "code",
      "metadata": {
        "id": "HycTgpK-GVwQ",
        "colab": {
          "base_uri": "https://localhost:8080/"
        },
        "outputId": "31cd5ebf-70fc-444d-e52c-ce4044c4cc2d"
      },
      "source": [
        "final_sentences = [ w.text for w in summarized_sentences ]\n",
        "summary = ' '.join(final_sentences)\n",
        "print(summary)"
      ],
      "execution_count": 15,
      "outputs": [
        {
          "output_type": "stream",
          "name": "stdout",
          "text": [
            "The court found that the cheque was issued by the respondent and criticized the lower courts for dismissing the complaint based on discrepancies in the evidence. The Trial Court initially dismissed the complaint, but the Supreme Court upheld it, finding that the cheque was indeed issued by the respondent.\n",
            " The court emphasized the presumption of consideration under Section 139 and held the respondent guilty of dishonoring the cheque.\n"
          ]
        }
      ]
    },
    {
      "cell_type": "code",
      "metadata": {
        "id": "9DYXTCjnm6zu",
        "colab": {
          "base_uri": "https://localhost:8080/"
        },
        "outputId": "7964330a-9f5d-4f29-e9cd-5db6aa042f18"
      },
      "source": [
        "!pip install gensim==3.2.0\n"
      ],
      "execution_count": 16,
      "outputs": [
        {
          "output_type": "stream",
          "name": "stdout",
          "text": [
            "Requirement already satisfied: gensim==3.2.0 in /usr/local/lib/python3.10/dist-packages (3.2.0)\n",
            "Requirement already satisfied: numpy>=1.11.3 in /usr/local/lib/python3.10/dist-packages (from gensim==3.2.0) (1.23.5)\n",
            "Requirement already satisfied: scipy>=0.18.1 in /usr/local/lib/python3.10/dist-packages (from gensim==3.2.0) (1.11.4)\n",
            "Requirement already satisfied: six>=1.5.0 in /usr/local/lib/python3.10/dist-packages (from gensim==3.2.0) (1.16.0)\n",
            "Requirement already satisfied: smart-open>=1.2.1 in /usr/local/lib/python3.10/dist-packages (from gensim==3.2.0) (6.4.0)\n"
          ]
        }
      ]
    },
    {
      "cell_type": "code",
      "source": [
        "!python --version"
      ],
      "metadata": {
        "colab": {
          "base_uri": "https://localhost:8080/"
        },
        "id": "kMtp5XEMQzXP",
        "outputId": "cedb8d16-4a3b-43f7-e745-c83d5e4b58e2"
      },
      "execution_count": 18,
      "outputs": [
        {
          "output_type": "stream",
          "name": "stdout",
          "text": [
            "Python 3.10.12\n"
          ]
        }
      ]
    },
    {
      "cell_type": "code",
      "source": [
        "import gensim_sum_ext\n",
        "# print(gensim.__version__)"
      ],
      "metadata": {
        "id": "rIBxcY3dQ7h2"
      },
      "execution_count": 23,
      "outputs": []
    },
    {
      "cell_type": "code",
      "source": [
        "import gensim\n",
        "print(gensim.__version__)"
      ],
      "metadata": {
        "colab": {
          "base_uri": "https://localhost:8080/",
          "height": 140
        },
        "id": "J-imIvAbMatk",
        "outputId": "e8e0363d-4933-4e1d-aa3e-b1be6740191e"
      },
      "execution_count": 21,
      "outputs": [
        {
          "output_type": "error",
          "ename": "SyntaxError",
          "evalue": "invalid syntax (<ipython-input-21-6aae9ee5061f>, line 1)",
          "traceback": [
            "\u001b[0;36m  File \u001b[0;32m\"<ipython-input-21-6aae9ee5061f>\"\u001b[0;36m, line \u001b[0;32m1\u001b[0m\n\u001b[0;31m    import gensim==3.2.0\u001b[0m\n\u001b[0m                 ^\u001b[0m\n\u001b[0;31mSyntaxError\u001b[0m\u001b[0;31m:\u001b[0m invalid syntax\n"
          ]
        }
      ]
    },
    {
      "cell_type": "code",
      "source": [
        "!apt-get -qq install -y gensim.summarization"
      ],
      "metadata": {
        "colab": {
          "base_uri": "https://localhost:8080/"
        },
        "id": "15-gt3oAMFNH",
        "outputId": "a8598c41-c3c7-4cd7-eeb7-b285334b9539"
      },
      "execution_count": 26,
      "outputs": [
        {
          "output_type": "stream",
          "name": "stdout",
          "text": [
            "E: Unable to locate package gensim.summarization\n",
            "E: Couldn't find any package by glob 'gensim.summarization'\n",
            "E: Couldn't find any package by regex 'gensim.summarization'\n"
          ]
        }
      ]
    },
    {
      "cell_type": "code",
      "metadata": {
        "id": "5uBazaDznMLE"
      },
      "source": [
        "doc =\"\"\"Bharatlaw Text-to-speech task\n",
        "\n",
        "\n",
        "Task:\n",
        "•\tImplement TTS – Text-to-Speech for below summary into using python.\n",
        "•\tResearch different TTS - (Text-to-Speech) technologies and implement all your researched technologies for given summary.\n",
        "•\tTTS conversion should be contextual and concise enough to understand easily, instead of just word to word conversion.\n",
        "•\tPresent your findings for implemented technologies for evaluation.\n",
        "Summary:\n",
        "Summary: Judgment on Complaint under Section 138 of the Negotiable Instruments Act\n",
        "Introduction\n",
        "This text discusses a judgment from the Supreme Court of India regarding a complaint filed under Section 138 of the Negotiable Instruments Act. The case involves a dispute over a cheque issued by the respondent, which was returned due to insufficient funds. The Trial Court initially dismissed the complaint, but the Supreme Court upheld it, finding that the cheque was indeed issued by the respondent.\n",
        "Key Points\n",
        "The complaint was dismissed initially due to contradictions in the evidence regarding the number of apple cartons and the amount owed.\n",
        "The High Court established that a cheque carries a presumption of consideration unless proven otherwise.\n",
        "The burden of proof is on the accused to rebut the presumption of consideration by providing evidence or circumstances to show that no debt existed.\n",
        "The court discusses the presumption of debt or liability under Section 139 of the Act and states that it may fail if the accused raises a probable defense.\n",
        "The court emphasizes that the presumption under Section 139 is a device to prevent undue delay in litigation and that dishonoring a check is largely a civil wrong.\n",
        "The respondent in this case failed to provide any evidence to rebut the presumption of consideration in issuing the cheque.\n",
        "The courts below were criticized for dismissing the complaint based on discrepancies in the determination of the amount due.\n",
        "The respondent is held guilty of dishonoring the cheque and is ordered to pay a fine and costs.\n",
        "Conclusion\n",
        "In conclusion, the Supreme Court of India upheld a complaint filed under Section 138 of the Negotiable Instruments Act. The court found that the cheque was issued by the respondent and criticized the lower courts for dismissing the complaint based on discrepancies in the evidence. The court emphasized the presumption of consideration under Section 139 and held the respondent guilty of dishonoring the cheque. The respondent was ordered to pay a fine and costs.\n",
        "\n",
        "\"\"\""
      ],
      "execution_count": 24,
      "outputs": []
    },
    {
      "cell_type": "code",
      "source": [
        "!pip install typing"
      ],
      "metadata": {
        "colab": {
          "base_uri": "https://localhost:8080/",
          "height": 324
        },
        "id": "RdJWQ7yLSJ7r",
        "outputId": "23f2e279-4d8f-4213-80ff-12e0ea40bdbb"
      },
      "execution_count": 26,
      "outputs": [
        {
          "output_type": "stream",
          "name": "stdout",
          "text": [
            "Collecting typing\n",
            "  Downloading typing-3.7.4.3.tar.gz (78 kB)\n",
            "\u001b[?25l     \u001b[90m━━━━━━━━━━━━━━━━━━━━━━━━━━━━━━━━━━━━━━━━\u001b[0m \u001b[32m0.0/78.6 kB\u001b[0m \u001b[31m?\u001b[0m eta \u001b[36m-:--:--\u001b[0m\r\u001b[2K     \u001b[90m━━━━━━━━━━━━━━━━━━━━━━━━━━━━━━━━━━━━━━━━\u001b[0m \u001b[32m78.6/78.6 kB\u001b[0m \u001b[31m2.9 MB/s\u001b[0m eta \u001b[36m0:00:00\u001b[0m\n",
            "\u001b[?25h  Preparing metadata (setup.py) ... \u001b[?25l\u001b[?25hdone\n",
            "Building wheels for collected packages: typing\n",
            "  Building wheel for typing (setup.py) ... \u001b[?25l\u001b[?25hdone\n",
            "  Created wheel for typing: filename=typing-3.7.4.3-py3-none-any.whl size=26304 sha256=f3530040e93ce267bf3de5b7b26be93d072c09e244350d432232321ef4038211\n",
            "  Stored in directory: /root/.cache/pip/wheels/7c/d0/9e/1f26ebb66d9e1732e4098bc5a6c2d91f6c9a529838f0284890\n",
            "Successfully built typing\n",
            "Installing collected packages: typing\n",
            "Successfully installed typing-3.7.4.3\n"
          ]
        },
        {
          "output_type": "display_data",
          "data": {
            "application/vnd.colab-display-data+json": {
              "pip_warning": {
                "packages": [
                  "typing"
                ]
              }
            }
          },
          "metadata": {}
        }
      ]
    },
    {
      "cell_type": "code",
      "metadata": {
        "id": "V1hDnABqm72V",
        "colab": {
          "base_uri": "https://localhost:8080/",
          "height": 494
        },
        "outputId": "a3d6f0e9-17c5-4d39-f7ab-56c2040e5df5"
      },
      "source": [
        "from gensim.summarization import summarize\n",
        "summarize(doc)"
      ],
      "execution_count": 27,
      "outputs": [
        {
          "output_type": "error",
          "ename": "ImportError",
          "evalue": "cannot import name 'Mapping' from 'collections' (/usr/lib/python3.10/collections/__init__.py)",
          "traceback": [
            "\u001b[0;31m---------------------------------------------------------------------------\u001b[0m",
            "\u001b[0;31mImportError\u001b[0m                               Traceback (most recent call last)",
            "\u001b[0;32m<ipython-input-27-0326eb64419d>\u001b[0m in \u001b[0;36m<cell line: 1>\u001b[0;34m()\u001b[0m\n\u001b[0;32m----> 1\u001b[0;31m \u001b[0;32mfrom\u001b[0m \u001b[0mgensim\u001b[0m\u001b[0;34m.\u001b[0m\u001b[0msummarization\u001b[0m \u001b[0;32mimport\u001b[0m \u001b[0msummarize\u001b[0m\u001b[0;34m\u001b[0m\u001b[0;34m\u001b[0m\u001b[0m\n\u001b[0m\u001b[1;32m      2\u001b[0m \u001b[0msummarize\u001b[0m\u001b[0;34m(\u001b[0m\u001b[0mdoc\u001b[0m\u001b[0;34m)\u001b[0m\u001b[0;34m\u001b[0m\u001b[0;34m\u001b[0m\u001b[0m\n",
            "\u001b[0;32m/usr/local/lib/python3.10/dist-packages/gensim/__init__.py\u001b[0m in \u001b[0;36m<module>\u001b[0;34m\u001b[0m\n\u001b[1;32m      4\u001b[0m \"\"\"\n\u001b[1;32m      5\u001b[0m \u001b[0;34m\u001b[0m\u001b[0m\n\u001b[0;32m----> 6\u001b[0;31m \u001b[0;32mfrom\u001b[0m \u001b[0mgensim\u001b[0m \u001b[0;32mimport\u001b[0m \u001b[0mparsing\u001b[0m\u001b[0;34m,\u001b[0m \u001b[0mmatutils\u001b[0m\u001b[0;34m,\u001b[0m \u001b[0minterfaces\u001b[0m\u001b[0;34m,\u001b[0m \u001b[0mcorpora\u001b[0m\u001b[0;34m,\u001b[0m \u001b[0mmodels\u001b[0m\u001b[0;34m,\u001b[0m \u001b[0msimilarities\u001b[0m\u001b[0;34m,\u001b[0m \u001b[0msummarization\u001b[0m\u001b[0;34m,\u001b[0m \u001b[0mutils\u001b[0m  \u001b[0;31m# noqa:F401\u001b[0m\u001b[0;34m\u001b[0m\u001b[0;34m\u001b[0m\u001b[0m\n\u001b[0m\u001b[1;32m      7\u001b[0m \u001b[0;32mimport\u001b[0m \u001b[0mlogging\u001b[0m\u001b[0;34m\u001b[0m\u001b[0;34m\u001b[0m\u001b[0m\n\u001b[1;32m      8\u001b[0m \u001b[0;34m\u001b[0m\u001b[0m\n",
            "\u001b[0;32m/usr/local/lib/python3.10/dist-packages/gensim/corpora/__init__.py\u001b[0m in \u001b[0;36m<module>\u001b[0;34m\u001b[0m\n\u001b[1;32m     10\u001b[0m \u001b[0;32mfrom\u001b[0m \u001b[0;34m.\u001b[0m\u001b[0msvmlightcorpus\u001b[0m \u001b[0;32mimport\u001b[0m \u001b[0mSvmLightCorpus\u001b[0m  \u001b[0;31m# noqa:F401\u001b[0m\u001b[0;34m\u001b[0m\u001b[0;34m\u001b[0m\u001b[0m\n\u001b[1;32m     11\u001b[0m \u001b[0;32mfrom\u001b[0m \u001b[0;34m.\u001b[0m\u001b[0mlowcorpus\u001b[0m \u001b[0;32mimport\u001b[0m \u001b[0mLowCorpus\u001b[0m  \u001b[0;31m# noqa:F401\u001b[0m\u001b[0;34m\u001b[0m\u001b[0;34m\u001b[0m\u001b[0m\n\u001b[0;32m---> 12\u001b[0;31m \u001b[0;32mfrom\u001b[0m \u001b[0;34m.\u001b[0m\u001b[0mdictionary\u001b[0m \u001b[0;32mimport\u001b[0m \u001b[0mDictionary\u001b[0m  \u001b[0;31m# noqa:F401\u001b[0m\u001b[0;34m\u001b[0m\u001b[0;34m\u001b[0m\u001b[0m\n\u001b[0m\u001b[1;32m     13\u001b[0m \u001b[0;32mfrom\u001b[0m \u001b[0;34m.\u001b[0m\u001b[0mhashdictionary\u001b[0m \u001b[0;32mimport\u001b[0m \u001b[0mHashDictionary\u001b[0m  \u001b[0;31m# noqa:F401\u001b[0m\u001b[0;34m\u001b[0m\u001b[0;34m\u001b[0m\u001b[0m\n\u001b[1;32m     14\u001b[0m \u001b[0;32mfrom\u001b[0m \u001b[0;34m.\u001b[0m\u001b[0mwikicorpus\u001b[0m \u001b[0;32mimport\u001b[0m \u001b[0mWikiCorpus\u001b[0m  \u001b[0;31m# noqa:F401\u001b[0m\u001b[0;34m\u001b[0m\u001b[0;34m\u001b[0m\u001b[0m\n",
            "\u001b[0;32m/usr/local/lib/python3.10/dist-packages/gensim/corpora/dictionary.py\u001b[0m in \u001b[0;36m<module>\u001b[0;34m\u001b[0m\n\u001b[1;32m     18\u001b[0m \u001b[0;32mfrom\u001b[0m \u001b[0m__future__\u001b[0m \u001b[0;32mimport\u001b[0m \u001b[0mwith_statement\u001b[0m\u001b[0;34m\u001b[0m\u001b[0;34m\u001b[0m\u001b[0m\n\u001b[1;32m     19\u001b[0m \u001b[0;34m\u001b[0m\u001b[0m\n\u001b[0;32m---> 20\u001b[0;31m \u001b[0;32mfrom\u001b[0m \u001b[0mcollections\u001b[0m \u001b[0;32mimport\u001b[0m \u001b[0mMapping\u001b[0m\u001b[0;34m,\u001b[0m \u001b[0mdefaultdict\u001b[0m\u001b[0;34m\u001b[0m\u001b[0;34m\u001b[0m\u001b[0m\n\u001b[0m\u001b[1;32m     21\u001b[0m \u001b[0;32mimport\u001b[0m \u001b[0msys\u001b[0m\u001b[0;34m\u001b[0m\u001b[0;34m\u001b[0m\u001b[0m\n\u001b[1;32m     22\u001b[0m \u001b[0;32mimport\u001b[0m \u001b[0mlogging\u001b[0m\u001b[0;34m\u001b[0m\u001b[0;34m\u001b[0m\u001b[0m\n",
            "\u001b[0;31mImportError\u001b[0m: cannot import name 'Mapping' from 'collections' (/usr/lib/python3.10/collections/__init__.py)",
            "",
            "\u001b[0;31m---------------------------------------------------------------------------\u001b[0;32m\nNOTE: If your import is failing due to a missing package, you can\nmanually install dependencies using either !pip or !apt.\n\nTo view examples of installing some common dependencies, click the\n\"Open Examples\" button below.\n\u001b[0;31m---------------------------------------------------------------------------\u001b[0m\n"
          ],
          "errorDetails": {
            "actions": [
              {
                "action": "open_url",
                "actionText": "Open Examples",
                "url": "/notebooks/snippets/importing_libraries.ipynb"
              }
            ]
          }
        }
      ]
    },
    {
      "cell_type": "code",
      "metadata": {
        "id": "u4honepsnGOv"
      },
      "source": [],
      "execution_count": null,
      "outputs": []
    }
  ]
}